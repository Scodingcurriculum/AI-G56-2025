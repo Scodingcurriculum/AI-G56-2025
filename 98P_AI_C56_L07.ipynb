{
  "nbformat": 4,
  "nbformat_minor": 0,
  "metadata": {
    "colab": {
      "provenance": [],
      "include_colab_link": true
    },
    "kernelspec": {
      "name": "python3",
      "display_name": "Python 3"
    },
    "language_info": {
      "name": "python"
    }
  },
  "cells": [
    {
      "cell_type": "markdown",
      "metadata": {
        "id": "view-in-github",
        "colab_type": "text"
      },
      "source": [
        "<a href=\"https://colab.research.google.com/github/Scodingcurriculum/AI-G56-2025/blob/main/98P_AI_C56_L07.ipynb\" target=\"_parent\"><img src=\"https://colab.research.google.com/assets/colab-badge.svg\" alt=\"Open In Colab\"/></a>"
      ]
    },
    {
      "cell_type": "code",
      "execution_count": null,
      "metadata": {
        "id": "rZot_7rTRhK0"
      },
      "outputs": [],
      "source": [
        "# Lesson 7: Multi-Condition AI Chatbot\n",
        "# ILOs covered:\n",
        "# - Extend chatbot behavior with multi-branch conditionals (if-elif-else)\n",
        "# - Normalize text with .lower() for robust matching\n",
        "# - Produce polite, context-aware replies with neat formatting\n",
        "\n",
        "print(\"=== Lesson 7: Mood Chatbot (Multi-Condition) ===\\n\")\n",
        "print(\"Tell me how you're feeling today (happy/sad/tired/excited).\")\n",
        "\n",
        "mood_raw = input(\"Your mood: \")\n",
        "mood = mood_raw.strip().lower()\n",
        "\n",
        "print()  # spacing\n",
        "if mood == \"happy\":\n",
        "    print(\"I'm happy to hear that! Keep spreading smiles 😊\")\n",
        "elif mood == \"sad\":\n",
        "    print(\"I'm sorry you're feeling sad. A short walk or music might help 💛\")\n",
        "elif mood == \"tired\":\n",
        "    print(\"Rest matters. Try a quick stretch and drink water 💧\")\n",
        "elif mood == \"excited\":\n",
        "    print(\"Woohoo! Channel that energy into something creative! 🚀\")\n",
        "else:\n",
        "    print(\"I’m learning new feelings! Thanks for sharing. 🌟\")\n",
        "\n",
        "print(\"\\nFormatting tips:\")\n",
        "print(\"• Use \\\\n for new lines.\")\n",
        "print(\"• Keep responses short, positive, and clear (like helpful AI assistants).\")\n",
        "\n",
        "# --- ADDITIONAL ACTIVITY START ---\n",
        "# Enhancement: Ask favorite subject and give a subject-specific message, then combine with mood reply\n",
        "print(\"\\nLet's talk about your favorite subject too!\")\n",
        "subject_raw = input(\"What's your favorite subject? (math/science/english/art): \")\n",
        "subject = subject_raw.strip().lower()\n",
        "\n",
        "print()  # spacing\n",
        "if subject == \"math\":\n",
        "    print(\"Math – Numbers are fun and powerful for problem solving! ➗\")\n",
        "elif subject == \"science\":\n",
        "    print(\"Science – Curiosity leads to amazing discoveries! 🔬\")\n",
        "elif subject == \"english\":\n",
        "    print(\"English – Words can inspire and connect people! 📚\")\n",
        "elif subject == \"art\":\n",
        "    print(\"Art – Creativity brings ideas to life! 🎨\")\n",
        "else:\n",
        "    print(\"Cool! Every subject has something exciting to learn.\")\n",
        "\n",
        "print(\"\\nSummary:\")\n",
        "print(f\"• Mood: {mood_raw.strip()}\")\n",
        "print(f\"• Favorite subject: {subject_raw.strip()}\")\n",
        "# --- ADDITIONAL ACTIVITY END ---\n",
        "\n",
        "print(\"\\n\" + \"-\" * 40)\n",
        "print(\"We practiced: multi-branch decisions, normalization, and context-aware replies.\")\n",
        "print(\"-\" * 40)\n"
      ]
    }
  ]
}