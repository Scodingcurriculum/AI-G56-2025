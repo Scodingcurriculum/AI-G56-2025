{
  "nbformat": 4,
  "nbformat_minor": 0,
  "metadata": {
    "colab": {
      "provenance": [],
      "include_colab_link": true
    },
    "kernelspec": {
      "name": "python3",
      "display_name": "Python 3"
    },
    "language_info": {
      "name": "python"
    }
  },
  "cells": [
    {
      "cell_type": "markdown",
      "metadata": {
        "id": "view-in-github",
        "colab_type": "text"
      },
      "source": [
        "<a href=\"https://colab.research.google.com/github/Scodingcurriculum/AI-G56-2025/blob/main/98P_AI_C56_L05.ipynb\" target=\"_parent\"><img src=\"https://colab.research.google.com/assets/colab-badge.svg\" alt=\"Open In Colab\"/></a>"
      ]
    },
    {
      "cell_type": "code",
      "execution_count": null,
      "metadata": {
        "id": "OKezMK3RMNk-"
      },
      "outputs": [],
      "source": [
        "# Lesson 5: Introduction to Functions + For Loop in Python\n",
        "# --------------------------------------------------------\n",
        "# ILOs covered:\n",
        "# 1) Introduction to Function (define, call, reuse code).\n",
        "# 2) Use for loops and range() to repeat tasks.\n",
        "# 3) Practice correct indentation inside functions and loops.\n",
        "# 4) Understand loop iteration and how it relates to AI (e.g., scanning through data items).\n",
        "# 5) Format loop output neatly with f-strings.\n",
        "#\n",
        "# Main Project:\n",
        "#   • Write a function that uses a for loop with range() to print numbers 1–10 with their squares.\n",
        "#\n",
        "# Additional Activity:\n",
        "#   • Extend the program with another function that asks the user for a number\n",
        "#     and prints its multiplication table up to 10.\n",
        "#   • Demonstrate function reusability and neat formatting.\n",
        "\n",
        "# ---------------------------------------------------------\n",
        "# Function: print_squares\n",
        "# Prints numbers 1–10 with their squares in a table format\n",
        "# ---------------------------------------------------------\n",
        "def print_squares():\n",
        "    print(\"=== For Loop: Numbers 1–10 and their Squares ===\")\n",
        "\n",
        "    # Header line\n",
        "    print(f\"{'Number':>8} | {'Square':>8}\")   # f-string with column alignment\n",
        "    print(\"-\" * 21)\n",
        "\n",
        "    # Loop through numbers 1 to 10\n",
        "    for i in range(1, 11):    # range(1, 11) gives 1 through 10\n",
        "        square = i * i\n",
        "        # Neatly formatted with f-strings\n",
        "        print(f\"{i:>8} | {square:>8}\")\n",
        "\n",
        "    print(\"-\" * 21)\n",
        "    print(\"Squares printed successfully!\\n\")\n",
        "\n",
        "# ---------------------------------------------------------\n",
        "# Function: multiplication_table\n",
        "# Asks the user for a number and prints its multiplication\n",
        "# table up to 10 in a neatly formatted way\n",
        "# ---------------------------------------------------------\n",
        "def multiplication_table():\n",
        "    print(\"=== Additional Activity: Multiplication Table ===\")\n",
        "    try:\n",
        "        # Ask user for a number\n",
        "        num = int(input(\"Enter a number to see its multiplication table up to 10: \"))\n",
        "\n",
        "        # Print the table neatly\n",
        "        print(f\"\\nMultiplication Table for {num}\")\n",
        "        print(\"-\" * 25)\n",
        "\n",
        "        for j in range(1, 11):\n",
        "            product = num * j\n",
        "            print(f\"{num} x {j:>2} = {product}\")   # f-string formatting with width\n",
        "\n",
        "        print(\"-\" * 25)\n",
        "        print(\"End of table.\\n\")\n",
        "\n",
        "    except ValueError:\n",
        "        print(\"Invalid input! Please enter a valid integer.\")\n",
        "\n",
        "# ---------------------------------------------------------\n",
        "# Function: main\n",
        "# Calls both the main project and additional activity\n",
        "# ---------------------------------------------------------\n",
        "def main():\n",
        "    print(\"=== Lesson 5: Introduction to Functions and For Loop ===\\n\")\n",
        "\n",
        "    # Call the first function (main project)\n",
        "    print_squares()\n",
        "\n",
        "    # Call the second function (additional activity)\n",
        "    multiplication_table()\n",
        "\n",
        "    # Closing note linking loop iteration to AI\n",
        "    print(\"How this relates to AI:\")\n",
        "    print(\"AI systems often scan through data items in a loop,\")\n",
        "    print(\"just like our program loops through numbers.\")\n",
        "    print(\"Functions help us organize code so it can be reused easily.\")\n",
        "    print(\"\\nEnd of Lesson 5 — Great job!\")\n",
        "\n",
        "# ---------------------------------------------------------\n",
        "# Run the program\n",
        "# ---------------------------------------------------------\n",
        "if __name__ == \"__main__\":\n",
        "    main()\n"
      ]
    }
  ]
}