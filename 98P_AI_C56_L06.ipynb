{
  "nbformat": 4,
  "nbformat_minor": 0,
  "metadata": {
    "colab": {
      "provenance": [],
      "include_colab_link": true
    },
    "kernelspec": {
      "name": "python3",
      "display_name": "Python 3"
    },
    "language_info": {
      "name": "python"
    }
  },
  "cells": [
    {
      "cell_type": "markdown",
      "metadata": {
        "id": "view-in-github",
        "colab_type": "text"
      },
      "source": [
        "<a href=\"https://colab.research.google.com/github/Scodingcurriculum/AI-G56-2025/blob/main/98P_AI_C56_L06.ipynb\" target=\"_parent\"><img src=\"https://colab.research.google.com/assets/colab-badge.svg\" alt=\"Open In Colab\"/></a>"
      ]
    },
    {
      "cell_type": "code",
      "execution_count": null,
      "metadata": {
        "id": "o6V35eHeQygS"
      },
      "outputs": [],
      "source": [
        "# Lesson 6: Introduction to While Loop in Python\n",
        "# ----------------------------------------------\n",
        "# Main Project:\n",
        "#   - Count down from 5 to 1 using a while loop.\n",
        "#   - Print \"Done!\" at the end.\n",
        "#\n",
        "# Additional Activity:\n",
        "#   - Ask the user for a custom number.\n",
        "#   - Use a while loop to count down from that number to 1.\n",
        "#   - End with \"Loop complete!\" message.\n",
        "#\n",
        "# Bonus Practice (to stretch learning):\n",
        "#   - Show how a while loop can also be used to count UP (1 → 5).\n",
        "#\n",
        "# Concepts Covered:\n",
        "#   - Condition checking in while loops.\n",
        "#   - Decrementing (reducing values) to avoid infinite loops.\n",
        "#   - Difference between for and while loops.\n",
        "#   - Real-life analogy: \"Keep asking until the answer is correct.\"\n",
        "#\n",
        "# This program is designed for Grade 5–6 students,\n",
        "# with very clear print statements and comments to guide understanding.\n",
        "\n",
        "def main():\n",
        "    print(\"=== While Loop: Countdown Example ===\")\n",
        "\n",
        "    # -------------------------------\n",
        "    # MAIN PROJECT (fixed countdown)\n",
        "    # -------------------------------\n",
        "    # Start from 5, go down to 1, then stop.\n",
        "    n = 5\n",
        "    print(\"\\nStarting fixed countdown from 5...\")\n",
        "\n",
        "    while n > 0:   # This condition is checked each time before loop body runs\n",
        "        print(f\"Current number: {n}\")   # Display current value\n",
        "        n = n - 1                       # Decrement (subtract 1 each loop)\n",
        "\n",
        "    # When n reaches 0, the condition (n > 0) becomes False\n",
        "    print(\"Done! Countdown finished.\\n\")\n",
        "\n",
        "    # -------------------------------\n",
        "    # ADDITIONAL ACTIVITY (user-defined countdown)\n",
        "    # -------------------------------\n",
        "    # Now, let the student enter their own number to practice.\n",
        "    try:\n",
        "        user_num = int(input(\"Enter a number to start your own countdown: \"))\n",
        "        print(f\"\\nStarting your custom countdown from {user_num}...\")\n",
        "\n",
        "        while user_num > 0:\n",
        "            print(f\"Counting down: {user_num}\")\n",
        "            user_num -= 1   # Shorthand for user_num = user_num - 1\n",
        "\n",
        "        # When the loop ends, user_num == 0\n",
        "        print(\"Loop complete! Your countdown has ended.\\n\")\n",
        "\n",
        "    except ValueError:\n",
        "        # If the input is not a number, the program won’t crash\n",
        "        print(\"Oops! That was not a valid number. Please try again with an integer.\\n\")\n",
        "\n",
        "    # -------------------------------\n",
        "    # BONUS PRACTICE (counting UP)\n",
        "    # -------------------------------\n",
        "    print(\"=== Bonus Example: Count UP from 1 to 5 using while loop ===\")\n",
        "    m = 1\n",
        "    while m <= 5:    # Run until m becomes 6\n",
        "        print(f\"Counting up: {m}\")\n",
        "        m += 1       # Increment (increase by 1 each time)\n",
        "    print(\"Done! Count up finished.\")\n",
        "\n",
        "# Standard Python practice: run main() only if this file is executed directly\n",
        "if __name__ == \"__main__\":\n",
        "    main()\n"
      ]
    }
  ]
}