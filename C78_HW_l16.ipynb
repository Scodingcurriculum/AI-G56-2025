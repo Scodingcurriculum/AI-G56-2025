{
  "nbformat": 4,
  "nbformat_minor": 0,
  "metadata": {
    "colab": {
      "provenance": [],
      "include_colab_link": true
    },
    "kernelspec": {
      "name": "python3",
      "display_name": "Python 3"
    },
    "language_info": {
      "name": "python"
    }
  },
  "cells": [
    {
      "cell_type": "markdown",
      "metadata": {
        "id": "view-in-github",
        "colab_type": "text"
      },
      "source": [
        "<a href=\"https://colab.research.google.com/github/Scodingcurriculum/AI-G56-2025/blob/main/C78_HW_l16.ipynb\" target=\"_parent\"><img src=\"https://colab.research.google.com/assets/colab-badge.svg\" alt=\"Open In Colab\"/></a>"
      ]
    },
    {
      "cell_type": "code",
      "execution_count": null,
      "metadata": {
        "id": "B9lTeMQ1ADCs"
      },
      "outputs": [],
      "source": [
        "# Lesson 16 Homework: Treeview of Books and Authors\n",
        "# -------------------------------------------------\n",
        "# Concepts: ttk.Treeview, headings, inserting rows, column widths, scrollbars\n",
        "\n",
        "import tkinter as tk\n",
        "from tkinter import ttk\n",
        "\n",
        "root = tk.Tk()\n",
        "root.title(\"Books & Authors\")\n",
        "root.geometry(\"520x260\")\n",
        "\n",
        "# Frame for tree + scrollbar\n",
        "frame = ttk.Frame(root)\n",
        "frame.pack(fill=\"both\", expand=True, padx=10, pady=10)\n",
        "\n",
        "# Create Treeview\n",
        "columns = (\"Title\", \"Author\")\n",
        "tree = ttk.Treeview(frame, columns=columns, show=\"headings\", height=8)\n",
        "tree.heading(\"Title\", text=\"Title\")\n",
        "tree.heading(\"Author\", text=\"Author\")\n",
        "tree.column(\"Title\", width=260)\n",
        "tree.column(\"Author\", width=200)\n",
        "\n",
        "# Sample rows\n",
        "data = [\n",
        "    (\"Charlotte's Web\", \"E. B. White\"),\n",
        "    (\"The Hobbit\", \"J. R. R. Tolkien\"),\n",
        "    (\"Matilda\", \"Roald Dahl\"),\n",
        "    (\"To Kill a Mockingbird\", \"Harper Lee\"),\n",
        "    (\"The Giver\", \"Lois Lowry\"),\n",
        "]\n",
        "\n",
        "# Insert rows\n",
        "for title, author in data:\n",
        "    tree.insert(\"\", tk.END, values=(title, author))\n",
        "\n",
        "# Add vertical scrollbar\n",
        "vsb = ttk.Scrollbar(frame, orient=\"vertical\", command=tree.yview)\n",
        "tree.configure(yscrollcommand=vsb.set)\n",
        "\n",
        "# Grid placement\n",
        "tree.grid(row=0, column=0, sticky=\"nsew\")\n",
        "vsb.grid(row=0, column=1, sticky=\"ns\")\n",
        "\n",
        "# Make frame expandable\n",
        "frame.rowconfigure(0, weight=1)\n",
        "frame.columnconfigure(0, weight=1)\n",
        "\n",
        "root.mainloop()\n"
      ]
    }
  ]
}