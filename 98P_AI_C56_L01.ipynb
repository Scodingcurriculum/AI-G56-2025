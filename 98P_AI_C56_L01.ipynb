{
  "nbformat": 4,
  "nbformat_minor": 0,
  "metadata": {
    "colab": {
      "provenance": [],
      "include_colab_link": true
    },
    "kernelspec": {
      "name": "python3",
      "display_name": "Python 3"
    },
    "language_info": {
      "name": "python"
    }
  },
  "cells": [
    {
      "cell_type": "markdown",
      "metadata": {
        "id": "view-in-github",
        "colab_type": "text"
      },
      "source": [
        "<a href=\"https://colab.research.google.com/github/Scodingcurriculum/AI-G56-2025/blob/main/98P_AI_C56_L01.ipynb\" target=\"_parent\"><img src=\"https://colab.research.google.com/assets/colab-badge.svg\" alt=\"Open In Colab\"/></a>"
      ]
    },
    {
      "cell_type": "code",
      "execution_count": null,
      "metadata": {
        "colab": {
          "base_uri": "https://localhost:8080/"
        },
        "id": "ZecpMwYDK7xC",
        "outputId": "c9164a86-4e2e-4c72-a162-929ff39b004d"
      },
      "outputs": [
        {
          "output_type": "stream",
          "name": "stdout",
          "text": [
            "Artificial Intelligence (AI) is the simulation of human intelligence processes by machines.\n",
            "It enables machines to learn from data, make decisions, and improve over time.\n",
            "Examples you might use daily:\n",
            "- Alexa: a virtual assistant that responds to voice commands.\n",
            "- YouTube: recommends videos using AI-driven algorithms.\n",
            "- Google Maps: predicts traffic and suggests optimal routes.\n",
            "Fun Fact 1: AI can generate realistic images from text prompts.\n",
            "Fun Fact 2: AI helps doctors diagnose diseases more accurately.\n",
            "I used AI today by asking my smart speaker to set a reminder.\n"
          ]
        }
      ],
      "source": [
        "# Lesson 1: Introduction to AI\n",
        "# ILOs covered:\n",
        "# - Describe what AI is and where we see it daily\n",
        "# - Use print(), strings, escape sequences (\\n, \\t) and comments (#) for neat multi-line output\n",
        "# - Run/debug in Colab/VS Code; distinguish AI-enabled vs regular tech; reflect on responsible AI\n",
        "\n",
        "# Title and separators using escape sequences\n",
        "print(\"=== Lesson 1: Introduction to AI ===\\n\")\n",
        "\n",
        "# Multi-line formatted explanation using \\n and \\t\n",
        "print(\"What is AI?\\n\"\n",
        "      \"\\t• Artificial Intelligence (AI) is when computers or machines can do tasks\\n\"\n",
        "      \"\\t  that usually need human thinking—like understanding language, recognizing images,\\n\"\n",
        "      \"\\t  making decisions, or giving recommendations.\\n\")\n",
        "\n",
        "print(\"Where do we see AI in daily life?\\n\"\n",
        "      \"\\t1) Voice Assistants (e.g., Alexa, Siri, Google Assistant)\\n\"\n",
        "      \"\\t2) Recommendations (e.g., YouTube, Netflix, Spotify)\\n\"\n",
        "      \"\\t3) Maps & Navigation (e.g., Google Maps)\\n\"\n",
        "      \"\\t4) Smart Cameras/Filters\\n\"\n",
        "      \"\\t5) Spam Detection in Emails\\n\")\n",
        "\n",
        "# Distinguishing AI vs non-AI with plain printed examples\n",
        "print(\"AI-enabled vs. Regular Technology:\\n\"\n",
        "      \"\\t• AI-enabled: A smart thermostat that learns your schedule and adjusts temperature.\\n\"\n",
        "      \"\\t• Regular: A basic fan that only turns on or off when you press a switch.\\n\")\n",
        "\n",
        "# Ethical / Responsible AI (kid-friendly reflection)\n",
        "print(\"Responsible AI (Kid-friendly):\\n\"\n",
        "      \"\\t• Be fair: AI should not treat people unfairly.\\n\"\n",
        "      \"\\t• Be safe: Use AI to help, not to harm.\\n\"\n",
        "      \"\\t• Be private: Keep personal information safe.\\n\")\n",
        "\n",
        "# Using comments to teach debugging idea:\n",
        "# Common beginner mistakes: missing quotes, missing parentheses, wrong indentation.\n",
        "# Example of a 'fixed' line after a pretend typo:\n",
        "# print(\"Thi is AI\")  # ← typo in \"This\" (we fixed it below)\n",
        "print(\"\\nDebugging tip: If something breaks, read the error message and check quotes/parentheses.\\n\")\n",
        "\n",
        "# Decorative separator with an escape sequence for a blank line\n",
        "print(\"-\" * 40 + \"\\n\")\n",
        "\n",
        "# A short, well-formatted recap block using \\n\n",
        "recap_text = (\n",
        "    \"Recap:\\n\"\n",
        "    \"• AI helps computers learn from data and make useful decisions.\\n\"\n",
        "    \"• We used print(), strings, and escape sequences like \\\\n and \\\\t to format text.\\n\"\n",
        "    \"• We compared AI-enabled devices with regular devices.\\n\"\n",
        ")\n",
        "print(recap_text)\n",
        "\n",
        "# --- ADDITIONAL ACTIVITY START ---\n",
        "# Enhancement per brief:\n",
        "#   Add TWO fun facts about AI and ONE personal use case from today.\n",
        "#   Insert a BLANK LINE before these extra lines.\n",
        "\n",
        "print()  # (Blank line before extra lines as required)\n",
        "\n",
        "fun_fact_1 = \"Fun Fact 1: AI can recognize objects in photos, like cats or cars.\"\n",
        "fun_fact_2 = \"Fun Fact 2: Recommendation systems learn your likes to suggest videos/music.\"\n",
        "personal_use_case = \"Personal Use Case: Today, I used YouTube’s AI to discover a new science video.\"\n",
        "\n",
        "print(fun_fact_1)\n",
        "print(fun_fact_2)\n",
        "print(personal_use_case)\n",
        "# --- ADDITIONAL ACTIVITY END ---\n",
        "\n",
        "# Optional: Profile card demo (practice neat formatting & separators)\n",
        "print(\"\\n\" + \"-\" * 20)\n",
        "print(\"Profile Card\")\n",
        "print(\"-\" * 20)\n",
        "print(\"Name: Your Name\")\n",
        "print(\"Grade: 5 or 6\")\n",
        "print(\"Statement: AI is the future of technology.\")\n",
        "print(\"-\" * 20)\n"
      ]
    }
  ]
}