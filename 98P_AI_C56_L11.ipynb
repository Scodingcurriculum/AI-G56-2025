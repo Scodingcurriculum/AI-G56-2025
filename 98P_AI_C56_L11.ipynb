{
  "nbformat": 4,
  "nbformat_minor": 0,
  "metadata": {
    "colab": {
      "provenance": [],
      "include_colab_link": true
    },
    "kernelspec": {
      "name": "python3",
      "display_name": "Python 3"
    },
    "language_info": {
      "name": "python"
    }
  },
  "cells": [
    {
      "cell_type": "markdown",
      "metadata": {
        "id": "view-in-github",
        "colab_type": "text"
      },
      "source": [
        "<a href=\"https://colab.research.google.com/github/Scodingcurriculum/AI-G56-2025/blob/main/98P_AI_C56_L11.ipynb\" target=\"_parent\"><img src=\"https://colab.research.google.com/assets/colab-badge.svg\" alt=\"Open In Colab\"/></a>"
      ]
    },
    {
      "cell_type": "code",
      "execution_count": null,
      "metadata": {
        "id": "8uQTOmVjTD0n"
      },
      "outputs": [],
      "source": [
        "# Lesson 11 (Part 2): AI Game — Rock–Paper–Scissors Predictor, Stats & Learning\n",
        "# ----------------------------------------------------------------------------\n",
        "# Extends Part 1 by tracking stats in a dictionary and printing a final report.\n",
        "# - Keeps {'wins':0, 'losses':0, 'ties':0}\n",
        "# - Adds input validation (unknown handler).\n",
        "# - Keeps frequency learning from Part 1.\n",
        "#\n",
        "# Additional Activity (included at bottom):\n",
        "# - Robust 'unknown' handler message & re-prompt.\n",
        "# - Final \"AI Learning Notes\" section with neat formatting.\n",
        "\n",
        "import random\n",
        "\n",
        "VALID_MOVES = (\"rock\", \"paper\", \"scissors\")\n",
        "\n",
        "def counter_move(pred):\n",
        "    if pred == \"rock\":\n",
        "        return \"paper\"\n",
        "    if pred == \"paper\":\n",
        "        return \"scissors\"\n",
        "    return \"rock\"\n",
        "\n",
        "def winner(user, comp):\n",
        "    if user == comp: return \"tie\"\n",
        "    if (user == \"rock\" and comp == \"scissors\") or        (user == \"paper\" and comp == \"rock\") or        (user == \"scissors\" and comp == \"paper\"):\n",
        "        return \"win\"\n",
        "    return \"lose\"\n",
        "\n",
        "def predict_next_move(freqs):\n",
        "    total = sum(freqs.values())\n",
        "    if total == 0:\n",
        "        return random.choice(VALID_MOVES), 0.0\n",
        "    most = max(freqs, key=freqs.get)\n",
        "    return most, freqs[most] / total\n",
        "\n",
        "def play():\n",
        "    print(\"=== Rock–Paper–Scissors Predictor — Part 2 (Stats) ===\")\n",
        "    print(\"Type rock/paper/scissors. Type 'exit' to stop.\")\n",
        "    freqs = {\"rock\": 0, \"paper\": 0, \"scissors\": 0}\n",
        "    stats = {\"wins\": 0, \"losses\": 0, \"ties\": 0}\n",
        "    rounds = 0\n",
        "\n",
        "    while True:\n",
        "        user = input(\"\\nYour move: \").strip().lower()\n",
        "        # ===== Additional Activity: Unknown handler =====\n",
        "        if user not in VALID_MOVES and user != \"exit\":\n",
        "            print(\"I didn’t understand that, try again! (rock/paper/scissors/exit)\")\n",
        "            continue\n",
        "        # ===== End Additional Activity =====\n",
        "\n",
        "        if user == \"exit\":\n",
        "            break\n",
        "\n",
        "        predicted, conf = predict_next_move(freqs)\n",
        "        comp = counter_move(predicted)\n",
        "        result = winner(user, comp)\n",
        "\n",
        "        freqs[user] += 1\n",
        "        rounds += 1\n",
        "        if result == \"win\":\n",
        "            stats[\"wins\"] += 1\n",
        "        elif result == \"lose\":\n",
        "            stats[\"losses\"] += 1\n",
        "        else:\n",
        "            stats[\"ties\"] += 1\n",
        "\n",
        "        print(f\"AI predicted: {predicted} -> Computer played: {comp}\")\n",
        "        print(f\"Round result: You {result}!\")\n",
        "\n",
        "    # Final report\n",
        "    print(\"\\n=== Final Report (Part 2) ===\")\n",
        "    print(f\"Rounds played: {rounds}\")\n",
        "    print(f\"Wins: {stats['wins']} | Losses: {stats['losses']} | Ties: {stats['ties']}\")\n",
        "    if rounds > 0:\n",
        "        win_rate = (stats['wins'] / rounds) * 100\n",
        "        print(f\"Win Rate: {win_rate:.1f}%\")\n",
        "        most = max(freqs, key=freqs.get)\n",
        "        print(f\"Your most frequent move: {most} ({freqs[most]} times)\")\n",
        "        print(f\"Next time the AI will counter with: {counter_move(most)}\")\n",
        "\n",
        "    # ===== Additional Activity: AI Learning Notes =====\n",
        "    print(\"\\n--- AI Learning Notes ---\")\n",
        "    print(\"• The AI looked at your past moves to predict the next one.\")\n",
        "    print(\"• It chose the counter move to try and win.\")\n",
        "    print(\"• Tracking wins/losses helps measure improvement.\")\n",
        "    print(\"-------------------------\")\n",
        "\n",
        "if __name__ == \"__main__\":\n",
        "    play()\n"
      ]
    }
  ]
}