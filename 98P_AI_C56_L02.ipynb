{
  "nbformat": 4,
  "nbformat_minor": 0,
  "metadata": {
    "colab": {
      "provenance": [],
      "include_colab_link": true
    },
    "kernelspec": {
      "name": "python3",
      "display_name": "Python 3"
    },
    "language_info": {
      "name": "python"
    }
  },
  "cells": [
    {
      "cell_type": "markdown",
      "metadata": {
        "id": "view-in-github",
        "colab_type": "text"
      },
      "source": [
        "<a href=\"https://colab.research.google.com/github/Scodingcurriculum/AI-G56-2025/blob/main/98P_AI_C56_L02.ipynb\" target=\"_parent\"><img src=\"https://colab.research.google.com/assets/colab-badge.svg\" alt=\"Open In Colab\"/></a>"
      ]
    },
    {
      "cell_type": "code",
      "execution_count": null,
      "metadata": {
        "id": "4ynAf4IULyds"
      },
      "outputs": [],
      "source": [
        "# Lesson 2: User Input in Python\n",
        "# ------------------------------\n",
        "# ILOs covered:\n",
        "# 1) Build interactive programs showing how AI collects input.\n",
        "# 2) Practice input(), variables, type conversion (int, str).\n",
        "# 3) Normalize inputs with .strip() and .lower().\n",
        "# 4) Format responses with f-strings.\n",
        "# 5) Connect clean input → better AI prediction.\n",
        "#\n",
        "# Additional Activity:\n",
        "#   Ask for a boolean-style input (“Do you like programming? yes/no”),\n",
        "#   clean with .lower() and print a conditional reply.\n",
        "\n",
        "print(\"=== Lesson 2: User Input in Python ===\\n\")\n",
        "\n",
        "# --- Collect inputs and clean them ---\n",
        "# name is cleaned with .strip() to remove spaces\n",
        "name = input(\"Enter your name: \").strip()\n",
        "\n",
        "# age is collected and converted to integer with int()\n",
        "# if the user enters non-numeric, this will give an error (which is fine for now, we fix later)\n",
        "age = int(input(\"Enter your age: \").strip())\n",
        "\n",
        "# favorite color is cleaned and normalized to lowercase\n",
        "favorite_color = input(\"Enter your favorite color: \").strip().lower()\n",
        "\n",
        "# --- Connect to AI idea: clean inputs help models ---\n",
        "print(\"\\nWhy clean inputs? If an AI system gets clean, simple text,\")\n",
        "print(\"it can process it better and make better predictions.\\n\")\n",
        "\n",
        "# --- Use f-strings to format a neat summary ---\n",
        "print(\"------------------------------------------------------------\")\n",
        "print(\"Your Cleaned Profile (using f-strings):\")\n",
        "print(f\"Name: {name}\")\n",
        "print(f\"Age:  {age}\")\n",
        "print(f\"Color (lowercased): {favorite_color}\")\n",
        "print(\"------------------------------------------------------------\")\n",
        "\n",
        "# --- Show re-formatting (e.g., Title Case for display) ---\n",
        "display_name = name.title()   # \"aanya rai\" -> \"Aanya Rai\"\n",
        "display_color = favorite_color.title()\n",
        "print(\"Display-friendly formatting:\")\n",
        "print(f\"Hello, {display_name}! A {display_color} theme sounds cool!\\n\")\n",
        "\n",
        "# ==================== ADDITIONAL ACTIVITY ====================\n",
        "# Boolean-style input: yes/no, cleaned with .lower()\n",
        "answer = input(\"Do you like programming? (yes/no): \").strip().lower()\n",
        "\n",
        "if answer == \"yes\":\n",
        "    print(\"Awesome! Keep practicing and building projects.\")\n",
        "elif answer == \"no\":\n",
        "    print(\"That's okay—explore different areas until you find something fun.\")\n",
        "else:\n",
        "    print(\"I'll take that as a 'maybe'—let's keep learning!\")\n",
        "# ==================== END ADDITIONAL ACTIVITY ====================\n",
        "\n",
        "# --- Closing note linking to AI ---\n",
        "print(\"\\nInput → Clean → Predict: This is similar to how AI systems work—\")\n",
        "print(\"they gather inputs, clean/normalize them, and then make predictions.\")\n",
        "\n",
        "print(\"\\nEnd of Lesson 2 — Great job!\")\n"
      ]
    }
  ]
}