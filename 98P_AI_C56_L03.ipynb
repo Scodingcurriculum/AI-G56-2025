{
  "nbformat": 4,
  "nbformat_minor": 0,
  "metadata": {
    "colab": {
      "provenance": [],
      "include_colab_link": true
    },
    "kernelspec": {
      "name": "python3",
      "display_name": "Python 3"
    },
    "language_info": {
      "name": "python"
    }
  },
  "cells": [
    {
      "cell_type": "markdown",
      "metadata": {
        "id": "view-in-github",
        "colab_type": "text"
      },
      "source": [
        "<a href=\"https://colab.research.google.com/github/Scodingcurriculum/AI-G56-2025/blob/main/98P_AI_C56_L03.ipynb\" target=\"_parent\"><img src=\"https://colab.research.google.com/assets/colab-badge.svg\" alt=\"Open In Colab\"/></a>"
      ]
    },
    {
      "cell_type": "code",
      "execution_count": null,
      "metadata": {
        "id": "aOICENvzLmnL"
      },
      "outputs": [],
      "source": [
        "# Lesson 3: AI in Daily Life\n",
        "# --------------------------\n",
        "# ILOs covered:\n",
        "# 1) Identify AI applications (entertainment, shopping, maps, assistants).\n",
        "# 2) Apply lists, tuples, conditional statements, string concatenation, f-strings.\n",
        "# 3) Organize output with blank lines and separators.\n",
        "# 4) Connect real-world AI to program structure.\n",
        "#\n",
        "# Main Project:\n",
        "#   Store AI apps in a list of tuples (app, description) and print them neatly.\n",
        "# Additional Activity:\n",
        "#   Print a short use description directly under each of the 5 apps with a blank line between pairs.\n",
        "\n",
        "print(\"=== Lesson 3: AI in Daily Life ===\\n\")\n",
        "\n",
        "# A simple separator (no helper functions yet at this stage)\n",
        "sep = \"-\" * 60\n",
        "big = \"=\" * 60\n",
        "\n",
        "# --- Data structure: list of tuples (app, description) ---\n",
        "apps = [\n",
        "    (\"Netflix\", \"recommends shows and movies based on what you watch\"),\n",
        "    (\"YouTube\", \"suggests videos you might enjoy next\"),\n",
        "    (\"Google Maps\", \"finds the fastest route using live traffic data\"),\n",
        "    (\"Amazon\", \"recommends products based on your browsing and purchases\"),\n",
        "    (\"Google Assistant\", \"helps with voice commands like reminders or answers\"),\n",
        "]\n",
        "\n",
        "# --- MAIN PROJECT ---\n",
        "print(big)\n",
        "print(\"AI Apps and What They Do (Main Project):\\n\")\n",
        "\n",
        "# We will loop over each (app, description) tuple,\n",
        "# and we will create a small \"category\" label using if/elif/else.\n",
        "# (No custom function—just inline logic learned up to L03.)\n",
        "for item in apps:\n",
        "    app = item[0]\n",
        "    desc = item[1]\n",
        "\n",
        "    # make a lowercase copy for easy checks\n",
        "    a = app.lower()\n",
        "\n",
        "    # Inline conditional classification\n",
        "    if \"netflix\" in a or \"youtube\" in a or \"spotify\" in a:\n",
        "        category = \"Entertainment\"\n",
        "    elif \"amazon\" in a or \"flipkart\" in a:\n",
        "        category = \"Shopping\"\n",
        "    elif \"maps\" in a:\n",
        "        category = \"Maps/Navigation\"\n",
        "    elif \"assistant\" in a or \"alexa\" in a or \"siri\" in a:\n",
        "        category = \"Voice Assistant\"\n",
        "    else:\n",
        "        category = \"Other\"\n",
        "\n",
        "    # Show both f-strings and string concatenation\n",
        "    print(f\"App: {app}  |  Category: {category}\")\n",
        "    print(\"Use: \" + desc)  # concatenation example\n",
        "    print()                # blank line between pairs for neat formatting\n",
        "\n",
        "print(big)\n",
        "\n",
        "# ==================== ADDITIONAL ACTIVITY ====================\n",
        "print(\"\\nAdditional Activity: App + one-line use description\\n\")\n",
        "\n",
        "# Re-print each pair with a short use line directly underneath,\n",
        "# keeping a blank line between app pairs for readability.\n",
        "for item in apps:\n",
        "    app = item[0]\n",
        "    desc = item[1]\n",
        "    print(app)\n",
        "    print(f\"  → {desc}\")\n",
        "    print()  # blank line for spacing\n",
        "# ==================== END ADDITIONAL ACTIVITY ====================\n",
        "\n",
        "# --- Closing connection to program structure ---\n",
        "print(sep)\n",
        "print(\"What we practiced today:\")\n",
        "print(\"• A list of tuples to organize (app, description).\")\n",
        "print(\"• Inline if/elif/else to tag categories without custom functions.\")\n",
        "print(\"• f-strings and string concatenation for readable output.\")\n",
        "print(\"• Blank lines and separators for a clean layout.\")\n",
        "print(sep)\n",
        "\n",
        "print(\"\\nEnd of Lesson 3 — Great job!\")\n"
      ]
    }
  ]
}