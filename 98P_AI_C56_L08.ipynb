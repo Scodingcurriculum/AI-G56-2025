{
  "nbformat": 4,
  "nbformat_minor": 0,
  "metadata": {
    "colab": {
      "provenance": [],
      "include_colab_link": true
    },
    "kernelspec": {
      "name": "python3",
      "display_name": "Python 3"
    },
    "language_info": {
      "name": "python"
    }
  },
  "cells": [
    {
      "cell_type": "markdown",
      "metadata": {
        "id": "view-in-github",
        "colab_type": "text"
      },
      "source": [
        "<a href=\"https://colab.research.google.com/github/Scodingcurriculum/AI-G56-2025/blob/main/98P_AI_C56_L08.ipynb\" target=\"_parent\"><img src=\"https://colab.research.google.com/assets/colab-badge.svg\" alt=\"Open In Colab\"/></a>"
      ]
    },
    {
      "cell_type": "code",
      "execution_count": null,
      "metadata": {
        "id": "sEMTo2iNRy-5"
      },
      "outputs": [],
      "source": [
        "# Lesson 8: Python Recap + Mini Survey\n",
        "# ILOs covered:\n",
        "# - Recap print, input, variables, if-else (light), and f-strings\n",
        "# - Apply cleaning (.strip(), .lower()) for at least one input\n",
        "# - Produce a tidy, formatted summary\n",
        "\n",
        "print(\"=== Lesson 8: Mini Survey Recap ===\\n\")\n",
        "\n",
        "name_raw = input(\"Enter your name: \")\n",
        "age_raw = input(\"Enter your age: \")\n",
        "color_raw = input(\"Enter your favorite color: \")\n",
        "\n",
        "# Clean inputs\n",
        "name = name_raw.strip()\n",
        "age = int(age_raw.strip())  # gentle assumption: age is a number\n",
        "color = color_raw.strip()   # preserve original case for display\n",
        "color_normalized = color.lower()\n",
        "\n",
        "print(\"\\n--- Summary ---\")\n",
        "print(f\"Hi {name}, you are {age} and your favorite color is {color}.\")\n",
        "print(f\"(Normalized color for matching/comparisons: {color_normalized})\")\n",
        "\n",
        "print(\"\\nFormatting tips:\")\n",
        "print(\"• Use f-strings for readable output.\")\n",
        "print(\"• Keep a consistent style with separators and headings.\")\n",
        "\n",
        "# --- ADDITIONAL ACTIVITY START ---\n",
        "# Enhancement: Ask one more input (favorite hobby) and print a two-line summary\n",
        "hobby_raw = input(\"\\nWhat's your favorite hobby? \")\n",
        "hobby = hobby_raw.strip()\n",
        "\n",
        "print(\"\\nTwo-line summary:\")\n",
        "print(f\"1) Hi {name}, age {age}, loves {color}.\")\n",
        "print(f\"2) Hobby: {hobby}.\")\n",
        "# --- ADDITIONAL ACTIVITY END ---\n",
        "\n",
        "print(\"\\n\" + \"-\" * 40)\n",
        "print(\"We practiced: input cleaning, f-strings, and concise summaries.\")\n",
        "print(\"-\" * 40)\n"
      ]
    }
  ]
}